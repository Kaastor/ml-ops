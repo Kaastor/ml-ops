{
 "cells": [
  {
   "cell_type": "markdown",
   "source": [
    "## Model conversion to TFJS\n",
    "\n",
    "### User-level AE model"
   ],
   "metadata": {
    "collapsed": false,
    "pycharm": {
     "name": "#%% md\n"
    }
   }
  },
  {
   "cell_type": "code",
   "execution_count": 1,
   "outputs": [
    {
     "name": "stdout",
     "output_type": "stream",
     "text": [
      "2022-02-21 17:28:48.991293: I tensorflow/stream_executor/platform/default/dso_loader.cc:49] Successfully opened dynamic library libcudart.so.11.0\r\n",
      "2022-02-21 17:28:51.081572: I tensorflow/compiler/jit/xla_cpu_device.cc:41] Not creating XLA devices, tf_xla_enable_xla_devices not set\r\n",
      "2022-02-21 17:28:51.090801: I tensorflow/stream_executor/platform/default/dso_loader.cc:49] Successfully opened dynamic library libcuda.so.1\r\n",
      "2022-02-21 17:28:52.604003: E tensorflow/stream_executor/cuda/cuda_driver.cc:328] failed call to cuInit: CUDA_ERROR_UNKNOWN: unknown error\r\n",
      "2022-02-21 17:28:52.604033: I tensorflow/stream_executor/cuda/cuda_diagnostics.cc:169] retrieving CUDA diagnostic information for host: przemys\r\n",
      "2022-02-21 17:28:52.604039: I tensorflow/stream_executor/cuda/cuda_diagnostics.cc:176] hostname: przemys\r\n",
      "2022-02-21 17:28:52.604521: I tensorflow/stream_executor/cuda/cuda_diagnostics.cc:200] libcuda reported version is: 510.47.3\r\n",
      "2022-02-21 17:28:52.604563: I tensorflow/stream_executor/cuda/cuda_diagnostics.cc:204] kernel reported version is: 510.47.3\r\n",
      "2022-02-21 17:28:52.604569: I tensorflow/stream_executor/cuda/cuda_diagnostics.cc:310] kernel version seems to match DSO: 510.47.3\r\n",
      "2022-02-21 17:28:52.606036: I tensorflow/compiler/jit/xla_gpu_device.cc:99] Not creating XLA devices, tf_xla_enable_xla_devices not set\r\n",
      "2022-02-21 17:28:53.004530: I tensorflow/core/grappler/devices.cc:69] Number of eligible GPUs (core count >= 8, compute capability >= 0.0): 0\r\n",
      "2022-02-21 17:28:53.004672: I tensorflow/core/grappler/clusters/single_machine.cc:356] Starting new session\r\n",
      "2022-02-21 17:28:53.004966: I tensorflow/compiler/jit/xla_gpu_device.cc:99] Not creating XLA devices, tf_xla_enable_xla_devices not set\r\n",
      "2022-02-21 17:28:53.023609: I tensorflow/core/platform/profile_utils/cpu_utils.cc:112] CPU Frequency: 2599990000 Hz\r\n",
      "2022-02-21 17:28:53.057400: I tensorflow/core/grappler/optimizers/meta_optimizer.cc:928] Optimization results for grappler item: graph_to_optimize\r\n",
      "  function_optimizer: Graph size after: 176 nodes (158), 279 edges (261), time = 17.3ms.\r\n",
      "  function_optimizer: function_optimizer did nothing. time = 0.22ms.\r\n",
      "\r\n",
      "2022-02-21 17:28:53.199582: I tensorflow/core/grappler/optimizers/meta_optimizer.cc:928] Optimization results for grappler item: graph_to_optimize\r\n",
      "  debug_stripper: debug_stripper did nothing. time = 0.449ms.\r\n",
      "  model_pruner: Graph size after: 156 nodes (-19), 261 edges (-19), time = 2.917ms.\r\n",
      "  constant_folding: Graph size after: 135 nodes (-21), 233 edges (-28), time = 7.949ms.\r\n",
      "  arithmetic_optimizer: Graph size after: 139 nodes (4), 239 edges (6), time = 2.146ms.\r\n",
      "  dependency_optimizer: Graph size after: 118 nodes (-21), 195 edges (-44), time = 1.967ms.\r\n",
      "  model_pruner: Graph size after: 118 nodes (0), 195 edges (0), time = 0.458ms.\r\n",
      "  constant_folding: Graph size after: 118 nodes (0), 195 edges (0), time = 1.725ms.\r\n",
      "  arithmetic_optimizer: Graph size after: 118 nodes (0), 195 edges (0), time = 1.389ms.\r\n",
      "  dependency_optimizer: Graph size after: 118 nodes (0), 195 edges (0), time = 0.701ms.\r\n",
      "  debug_stripper: debug_stripper did nothing. time = 0.065ms.\r\n",
      "  model_pruner: Graph size after: 118 nodes (0), 195 edges (0), time = 0.406ms.\r\n",
      "  constant_folding: Graph size after: 118 nodes (0), 195 edges (0), time = 1.697ms.\r\n",
      "  arithmetic_optimizer: Graph size after: 118 nodes (0), 195 edges (0), time = 1.496ms.\r\n",
      "  dependency_optimizer: Graph size after: 118 nodes (0), 195 edges (0), time = 0.719ms.\r\n",
      "  model_pruner: Graph size after: 118 nodes (0), 195 edges (0), time = 0.446ms.\r\n",
      "  constant_folding: Graph size after: 118 nodes (0), 195 edges (0), time = 1.765ms.\r\n",
      "  arithmetic_optimizer: Graph size after: 118 nodes (0), 195 edges (0), time = 1.466ms.\r\n",
      "  dependency_optimizer: Graph size after: 118 nodes (0), 195 edges (0), time = 0.898ms.\r\n",
      "\r\n",
      "2022-02-21 17:28:53.235715: I tensorflow/core/grappler/optimizers/meta_optimizer.cc:928] Optimization results for grappler item: graph_to_optimize\r\n",
      "  remapper: Graph size after: 113 nodes (-5), 190 edges (-5), time = 2.3ms.\r\n",
      "  constant_folding: Graph size after: 113 nodes (0), 190 edges (0), time = 2.208ms.\r\n",
      "  arithmetic_optimizer: Graph size after: 113 nodes (0), 190 edges (0), time = 1.445ms.\r\n",
      "  dependency_optimizer: Graph size after: 113 nodes (0), 190 edges (0), time = 0.737ms.\r\n",
      "  remapper: Graph size after: 113 nodes (0), 190 edges (0), time = 0.341ms.\r\n",
      "  constant_folding: Graph size after: 113 nodes (0), 190 edges (0), time = 1.555ms.\r\n",
      "  arithmetic_optimizer: Graph size after: 113 nodes (0), 190 edges (0), time = 1.403ms.\r\n",
      "  dependency_optimizer: Graph size after: 113 nodes (0), 190 edges (0), time = 0.702ms.\r\n",
      "\r\n",
      "Writing weight file ./user-level-ae-model/model.json...\r\n"
     ]
    }
   ],
   "source": [
    "!tensorflowjs_converter --input_format=tf_saved_model ../domain/autoencoder/last-saved-model ./user-level-ae-model"
   ],
   "metadata": {
    "collapsed": false,
    "pycharm": {
     "name": "#%%\n"
    }
   }
  },
  {
   "cell_type": "markdown",
   "source": [
    "### Global Conv model"
   ],
   "metadata": {
    "collapsed": false,
    "pycharm": {
     "name": "#%% md\n"
    }
   }
  },
  {
   "cell_type": "code",
   "execution_count": 2,
   "outputs": [
    {
     "name": "stdout",
     "output_type": "stream",
     "text": [
      "2022-02-21 17:34:51.725402: I tensorflow/stream_executor/platform/default/dso_loader.cc:49] Successfully opened dynamic library libcudart.so.11.0\r\n",
      "2022-02-21 17:34:52.804057: I tensorflow/compiler/jit/xla_cpu_device.cc:41] Not creating XLA devices, tf_xla_enable_xla_devices not set\r\n",
      "2022-02-21 17:34:52.804636: I tensorflow/stream_executor/platform/default/dso_loader.cc:49] Successfully opened dynamic library libcuda.so.1\r\n",
      "2022-02-21 17:34:54.294340: E tensorflow/stream_executor/cuda/cuda_driver.cc:328] failed call to cuInit: CUDA_ERROR_UNKNOWN: unknown error\r\n",
      "2022-02-21 17:34:54.294364: I tensorflow/stream_executor/cuda/cuda_diagnostics.cc:169] retrieving CUDA diagnostic information for host: przemys\r\n",
      "2022-02-21 17:34:54.294370: I tensorflow/stream_executor/cuda/cuda_diagnostics.cc:176] hostname: przemys\r\n",
      "2022-02-21 17:34:54.294443: I tensorflow/stream_executor/cuda/cuda_diagnostics.cc:200] libcuda reported version is: 510.47.3\r\n",
      "2022-02-21 17:34:54.294461: I tensorflow/stream_executor/cuda/cuda_diagnostics.cc:204] kernel reported version is: 510.47.3\r\n",
      "2022-02-21 17:34:54.294467: I tensorflow/stream_executor/cuda/cuda_diagnostics.cc:310] kernel version seems to match DSO: 510.47.3\r\n",
      "2022-02-21 17:34:54.295756: I tensorflow/compiler/jit/xla_gpu_device.cc:99] Not creating XLA devices, tf_xla_enable_xla_devices not set\r\n",
      "2022-02-21 17:34:54.652509: I tensorflow/core/grappler/devices.cc:69] Number of eligible GPUs (core count >= 8, compute capability >= 0.0): 0\r\n",
      "2022-02-21 17:34:54.652620: I tensorflow/core/grappler/clusters/single_machine.cc:356] Starting new session\r\n",
      "2022-02-21 17:34:54.653199: I tensorflow/compiler/jit/xla_gpu_device.cc:99] Not creating XLA devices, tf_xla_enable_xla_devices not set\r\n",
      "2022-02-21 17:34:54.671620: I tensorflow/core/platform/profile_utils/cpu_utils.cc:112] CPU Frequency: 2599990000 Hz\r\n",
      "2022-02-21 17:34:54.675089: I tensorflow/core/grappler/optimizers/meta_optimizer.cc:928] Optimization results for grappler item: graph_to_optimize\r\n",
      "  function_optimizer: Graph size after: 107 nodes (91), 132 edges (116), time = 1.771ms.\r\n",
      "  function_optimizer: function_optimizer did nothing. time = 0.036ms.\r\n",
      "\r\n",
      "2022-02-21 17:34:54.810031: I tensorflow/core/grappler/optimizers/meta_optimizer.cc:928] Optimization results for grappler item: graph_to_optimize\r\n",
      "  debug_stripper: debug_stripper did nothing. time = 0.011ms.\r\n",
      "  model_pruner: Graph size after: 89 nodes (-18), 114 edges (-18), time = 0.414ms.\r\n",
      "  constant_folding: Graph size after: 72 nodes (-17), 93 edges (-21), time = 12.708ms.\r\n",
      "  arithmetic_optimizer: Graph size after: 72 nodes (0), 93 edges (0), time = 2.797ms.\r\n",
      "  dependency_optimizer: Graph size after: 66 nodes (-6), 65 edges (-28), time = 1.156ms.\r\n",
      "  model_pruner: Graph size after: 66 nodes (0), 65 edges (0), time = 0.553ms.\r\n",
      "  constant_folding: Graph size after: 66 nodes (0), 65 edges (0), time = 2.322ms.\r\n",
      "  arithmetic_optimizer: Graph size after: 66 nodes (0), 65 edges (0), time = 1.695ms.\r\n",
      "  dependency_optimizer: Graph size after: 66 nodes (0), 65 edges (0), time = 0.679ms.\r\n",
      "  debug_stripper: debug_stripper did nothing. time = 0.037ms.\r\n",
      "  model_pruner: Graph size after: 66 nodes (0), 65 edges (0), time = 0.536ms.\r\n",
      "  constant_folding: Graph size after: 66 nodes (0), 65 edges (0), time = 2.041ms.\r\n",
      "  arithmetic_optimizer: Graph size after: 66 nodes (0), 65 edges (0), time = 1.679ms.\r\n",
      "  dependency_optimizer: Graph size after: 66 nodes (0), 65 edges (0), time = 0.642ms.\r\n",
      "  model_pruner: Graph size after: 66 nodes (0), 65 edges (0), time = 0.517ms.\r\n",
      "  constant_folding: Graph size after: 66 nodes (0), 65 edges (0), time = 1.97ms.\r\n",
      "  arithmetic_optimizer: Graph size after: 66 nodes (0), 65 edges (0), time = 1.668ms.\r\n",
      "  dependency_optimizer: Graph size after: 66 nodes (0), 65 edges (0), time = 0.636ms.\r\n",
      "\r\n",
      "2022-02-21 17:34:54.908828: I tensorflow/core/grappler/optimizers/meta_optimizer.cc:928] Optimization results for grappler item: graph_to_optimize\r\n",
      "  remapper: Graph size after: 59 nodes (-7), 58 edges (-7), time = 1.483ms.\r\n",
      "  constant_folding: Graph size after: 59 nodes (0), 58 edges (0), time = 3.197ms.\r\n",
      "  arithmetic_optimizer: Graph size after: 59 nodes (0), 58 edges (0), time = 1.551ms.\r\n",
      "  dependency_optimizer: Graph size after: 59 nodes (0), 58 edges (0), time = 0.578ms.\r\n",
      "  remapper: Graph size after: 59 nodes (0), 58 edges (0), time = 0.5ms.\r\n",
      "  constant_folding: Graph size after: 59 nodes (0), 58 edges (0), time = 2.163ms.\r\n",
      "  arithmetic_optimizer: Graph size after: 59 nodes (0), 58 edges (0), time = 1.639ms.\r\n",
      "  dependency_optimizer: Graph size after: 59 nodes (0), 58 edges (0), time = 0.87ms.\r\n",
      "\r\n",
      "Writing weight file ./global-conv-model/model.json...\r\n"
     ]
    }
   ],
   "source": [
    "!tensorflowjs_converter --input_format=tf_saved_model ../url/URLNet/last-saved-model ./global-conv-model"
   ],
   "metadata": {
    "collapsed": false,
    "pycharm": {
     "name": "#%%\n"
    }
   }
  },
  {
   "cell_type": "markdown",
   "source": [
    "### Global ConvAE model"
   ],
   "metadata": {
    "collapsed": false,
    "pycharm": {
     "name": "#%% md\n"
    }
   }
  },
  {
   "cell_type": "code",
   "execution_count": null,
   "outputs": [],
   "source": [
    "!tensorflowjs_converter --input_format=tf_saved_model ../url/autoencoder/last-saved-model ./global-conv-ae-model"
   ],
   "metadata": {
    "collapsed": false,
    "pycharm": {
     "name": "#%%\n"
    }
   }
  }
 ],
 "metadata": {
  "kernelspec": {
   "display_name": "Python 3",
   "language": "python",
   "name": "python3"
  },
  "language_info": {
   "codemirror_mode": {
    "name": "ipython",
    "version": 2
   },
   "file_extension": ".py",
   "mimetype": "text/x-python",
   "name": "python",
   "nbconvert_exporter": "python",
   "pygments_lexer": "ipython2",
   "version": "2.7.6"
  }
 },
 "nbformat": 4,
 "nbformat_minor": 0
}